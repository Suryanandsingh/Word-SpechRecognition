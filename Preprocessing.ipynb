{
 "cells": [
  {
   "cell_type": "code",
   "execution_count": 1,
   "metadata": {},
   "outputs": [
    {
     "name": "stderr",
     "output_type": "stream",
     "text": [
      "Using TensorFlow backend.\n"
     ]
    }
   ],
   "source": [
    "# Importing all need library\n",
    "import os\n",
    "import numpy as np\n",
    "from keras.utils.np_utils import to_categorical\n",
    "from sklearn.model_selection import train_test_split\n",
    "import librosa"
   ]
  },
  {
   "cell_type": "code",
   "execution_count": 2,
   "metadata": {
    "collapsed": true
   },
   "outputs": [],
   "source": [
    "# path of audio file\n",
    "path = './audio/'"
   ]
  },
  {
   "cell_type": "code",
   "execution_count": 3,
   "metadata": {
    "collapsed": true
   },
   "outputs": [],
   "source": [
    "# Change into labels, index and one hot encoding\n",
    "def get_label(PATH=path):\n",
    "    lables = os.listdir(PATH)\n",
    "    label_index = np.arange(0, len(lables))\n",
    "    return lables, label_index, to_categorical(label_index)"
   ]
  },
  {
   "cell_type": "code",
   "execution_count": 4,
   "metadata": {
    "collapsed": true
   },
   "outputs": [],
   "source": [
    "# Vectorise the audio\n",
    "def Wav2MFCC(path, max_len=11):\n",
    "    wav, sr = librosa.load(path, mono=True, sr=None)\n",
    "    wav = wav[::3]\n",
    "    mfcc = librosa.feature.mfcc(wav, sr=16000)\n",
    "    \n",
    "    if(max_len>mfcc.shape[1]):\n",
    "        pad_width = max_len-mfcc.shape[1]\n",
    "        mfcc = np.pad(mfcc, pad_width=((0, 0), (0, pad_width)), mode='constant')\n",
    "    else:\n",
    "        mfcc = mfcc[:, :max_len]\n",
    "    return mfcc    "
   ]
  },
  {
   "cell_type": "code",
   "execution_count": 5,
   "metadata": {
    "collapsed": true
   },
   "outputs": [],
   "source": [
    "# save data\n",
    "def save_data_to_array(path=path, max_len=11):\n",
    "    labels, _, _=get_label(path)\n",
    "    for label in labels:\n",
    "        mfcc_vector = []\n",
    "        wavefile = [path+label+'/'+wavefile for wavefile in os.listdir(path + '/' + label)]\n",
    "        \n",
    "        for wave in wavefile:\n",
    "            mfcc = Wav2MFCC(wave, max_len=max_len)\n",
    "            mfcc_vector.append(mfcc)\n",
    "        np.save(label+'.npy', mfcc_vector)"
   ]
  },
  {
   "cell_type": "code",
   "execution_count": 6,
   "metadata": {
    "collapsed": true
   },
   "outputs": [],
   "source": [
    "#spliting the data\n",
    "def split_train_test():\n",
    "    lables, index, _ = get_label(path)\n",
    "    X = np.load(lables[0]+'.npy')\n",
    "    y = np.zeros(X.shape[0])\n",
    "    \n",
    "    #Append all datasets into in single array\n",
    "    for i, label in enumerate(lables[1:]):\n",
    "        x = np.load(label+'.npy')\n",
    "        X = np.vstack((X, x))\n",
    "        y = np.append(y, np.full(x.shape[0], fill_value=(i+1)))\n",
    "        \n",
    "    assert X.shape[0]==len(y)\n",
    "    \n",
    "    return train_test_split(X, y, test_size=0.25, random_state=42)"
   ]
  }
 ],
 "metadata": {
  "kernelspec": {
   "display_name": "Python 3",
   "language": "python",
   "name": "python3"
  },
  "language_info": {
   "codemirror_mode": {
    "name": "ipython",
    "version": 3
   },
   "file_extension": ".py",
   "mimetype": "text/x-python",
   "name": "python",
   "nbconvert_exporter": "python",
   "pygments_lexer": "ipython3",
   "version": "3.6.3"
  }
 },
 "nbformat": 4,
 "nbformat_minor": 2
}
