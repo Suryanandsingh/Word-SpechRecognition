{
 "cells": [
  {
   "cell_type": "code",
   "execution_count": 1,
   "metadata": {
    "scrolled": false
   },
   "outputs": [
    {
     "name": "stderr",
     "output_type": "stream",
     "text": [
      "Using TensorFlow backend.\n"
     ]
    }
   ],
   "source": [
    "#importing preprocessing \n",
    "%run 'Preprocessing.ipynb'"
   ]
  },
  {
   "cell_type": "code",
   "execution_count": 2,
   "metadata": {
    "collapsed": true
   },
   "outputs": [],
   "source": [
    "# Import all need library\n",
    "from keras.models import Sequential\n",
    "from keras.layers import Dense, Dropout, Flatten, Conv2D, MaxPool2D\n",
    "from keras.utils.np_utils import to_categorical"
   ]
  },
  {
   "cell_type": "code",
   "execution_count": 3,
   "metadata": {
    "collapsed": true
   },
   "outputs": [],
   "source": [
    "#Save your each sample of data to array in .npy formate\n",
    "#save_data_to_array()"
   ]
  },
  {
   "cell_type": "code",
   "execution_count": 5,
   "metadata": {},
   "outputs": [],
   "source": [
    "#spliting the dataset into train and test, where 75% dataset for train and 25% dataset for test \n",
    "X_train, X_test, y_train, y_test = split_train_test()"
   ]
  },
  {
   "cell_type": "code",
   "execution_count": 6,
   "metadata": {},
   "outputs": [
    {
     "data": {
      "text/plain": [
       "(21689, 20, 11)"
      ]
     },
     "execution_count": 6,
     "metadata": {},
     "output_type": "execute_result"
    }
   ],
   "source": [
    "X_train.shape"
   ]
  },
  {
   "cell_type": "code",
   "execution_count": 7,
   "metadata": {
    "collapsed": true
   },
   "outputs": [],
   "source": [
    "#Reshape train data\n",
    "X_train = X_train.reshape(X_train.shape[0], X_train.shape[1], X_train.shape[2], 1)"
   ]
  },
  {
   "cell_type": "code",
   "execution_count": 8,
   "metadata": {},
   "outputs": [
    {
     "data": {
      "text/plain": [
       "(7230, 20, 11)"
      ]
     },
     "execution_count": 8,
     "metadata": {},
     "output_type": "execute_result"
    }
   ],
   "source": [
    "X_test.shape"
   ]
  },
  {
   "cell_type": "code",
   "execution_count": 9,
   "metadata": {
    "collapsed": true
   },
   "outputs": [],
   "source": [
    "#reshape test data\n",
    "X_test = X_test.reshape(X_test.shape[0], X_test.shape[1], X_test.shape[2], 1)"
   ]
  },
  {
   "cell_type": "code",
   "execution_count": 10,
   "metadata": {
    "collapsed": true
   },
   "outputs": [],
   "source": [
    "#one hot encoding \n",
    "y_train = to_categorical(y_train)\n",
    "y_test = to_categorical(y_test)"
   ]
  },
  {
   "cell_type": "code",
   "execution_count": 11,
   "metadata": {
    "collapsed": true
   },
   "outputs": [],
   "source": [
    "#train model \n",
    "model = Sequential()\n",
    "model.add(Conv2D(32, (2,2), input_shape=X_train.shape[1:], activation='relu'))\n",
    "model.add(Conv2D(48, (2, 2), activation='relu'))\n",
    "model.add(Conv2D(120, (2, 2), activation='relu'))\n",
    "model.add(MaxPool2D(pool_size=(2, 2)))\n",
    "model.add(Dropout(0.25))\n",
    "model.add(Flatten())\n",
    "model.add(Dense(128, activation='relu'))\n",
    "model.add(Dropout(0.25))\n",
    "model.add(Dense(64, activation='relu'))\n",
    "model.add(Dropout(0.40))\n",
    "model.add(Dense(13, activation='softmax'))"
   ]
  },
  {
   "cell_type": "code",
   "execution_count": 12,
   "metadata": {
    "collapsed": true
   },
   "outputs": [],
   "source": [
    "#Compile the model\n",
    "model.compile(loss='categorical_crossentropy', optimizer='adam', metrics=['accuracy'])"
   ]
  },
  {
   "cell_type": "code",
   "execution_count": 13,
   "metadata": {},
   "outputs": [
    {
     "name": "stdout",
     "output_type": "stream",
     "text": [
      "_________________________________________________________________\n",
      "Layer (type)                 Output Shape              Param #   \n",
      "=================================================================\n",
      "conv2d_1 (Conv2D)            (None, 19, 10, 32)        160       \n",
      "_________________________________________________________________\n",
      "conv2d_2 (Conv2D)            (None, 18, 9, 48)         6192      \n",
      "_________________________________________________________________\n",
      "conv2d_3 (Conv2D)            (None, 17, 8, 120)        23160     \n",
      "_________________________________________________________________\n",
      "max_pooling2d_1 (MaxPooling2 (None, 8, 4, 120)         0         \n",
      "_________________________________________________________________\n",
      "dropout_1 (Dropout)          (None, 8, 4, 120)         0         \n",
      "_________________________________________________________________\n",
      "flatten_1 (Flatten)          (None, 3840)              0         \n",
      "_________________________________________________________________\n",
      "dense_1 (Dense)              (None, 128)               491648    \n",
      "_________________________________________________________________\n",
      "dropout_2 (Dropout)          (None, 128)               0         \n",
      "_________________________________________________________________\n",
      "dense_2 (Dense)              (None, 64)                8256      \n",
      "_________________________________________________________________\n",
      "dropout_3 (Dropout)          (None, 64)                0         \n",
      "_________________________________________________________________\n",
      "dense_3 (Dense)              (None, 13)                845       \n",
      "=================================================================\n",
      "Total params: 530,261\n",
      "Trainable params: 530,261\n",
      "Non-trainable params: 0\n",
      "_________________________________________________________________\n"
     ]
    }
   ],
   "source": [
    "model.summary()"
   ]
  },
  {
   "cell_type": "code",
   "execution_count": 14,
   "metadata": {
    "scrolled": true
   },
   "outputs": [
    {
     "name": "stdout",
     "output_type": "stream",
     "text": [
      "Train on 21689 samples, validate on 7230 samples\n",
      "Epoch 1/30\n",
      "21689/21689 [==============================] - 54s 2ms/step - loss: 2.3180 - acc: 0.2281 - val_loss: 1.4743 - val_acc: 0.5387\n",
      "Epoch 2/30\n",
      "21689/21689 [==============================] - 67s 3ms/step - loss: 1.4397 - acc: 0.5177 - val_loss: 0.8155 - val_acc: 0.7474\n",
      "Epoch 3/30\n",
      "21689/21689 [==============================] - 73s 3ms/step - loss: 0.9943 - acc: 0.6808 - val_loss: 0.6467 - val_acc: 0.8109\n",
      "Epoch 4/30\n",
      "21689/21689 [==============================] - 81s 4ms/step - loss: 0.7796 - acc: 0.7590 - val_loss: 0.4803 - val_acc: 0.8599\n",
      "Epoch 5/30\n",
      "21689/21689 [==============================] - 63s 3ms/step - loss: 0.6674 - acc: 0.7934 - val_loss: 0.4619 - val_acc: 0.8636\n",
      "Epoch 6/30\n",
      "21689/21689 [==============================] - 73s 3ms/step - loss: 0.5950 - acc: 0.8191 - val_loss: 0.4028 - val_acc: 0.8806\n",
      "Epoch 7/30\n",
      "21689/21689 [==============================] - 68s 3ms/step - loss: 0.5239 - acc: 0.8401 - val_loss: 0.4063 - val_acc: 0.8769\n",
      "Epoch 8/30\n",
      "21689/21689 [==============================] - 67s 3ms/step - loss: 0.4647 - acc: 0.8597 - val_loss: 0.3793 - val_acc: 0.8859\n",
      "Epoch 9/30\n",
      "21689/21689 [==============================] - 67s 3ms/step - loss: 0.4178 - acc: 0.8697 - val_loss: 0.3659 - val_acc: 0.8909\n",
      "Epoch 10/30\n",
      "21689/21689 [==============================] - 70s 3ms/step - loss: 0.3996 - acc: 0.8773 - val_loss: 0.3501 - val_acc: 0.8953\n",
      "Epoch 11/30\n",
      "21689/21689 [==============================] - 69s 3ms/step - loss: 0.3656 - acc: 0.8869 - val_loss: 0.3666 - val_acc: 0.8920\n",
      "Epoch 12/30\n",
      "21689/21689 [==============================] - 74s 3ms/step - loss: 0.3384 - acc: 0.8958 - val_loss: 0.3627 - val_acc: 0.8928\n",
      "Epoch 13/30\n",
      "21689/21689 [==============================] - 81s 4ms/step - loss: 0.3258 - acc: 0.9009 - val_loss: 0.3821 - val_acc: 0.8902\n",
      "Epoch 14/30\n",
      "21689/21689 [==============================] - 84s 4ms/step - loss: 0.2947 - acc: 0.9110 - val_loss: 0.3540 - val_acc: 0.8964\n",
      "Epoch 15/30\n",
      "21689/21689 [==============================] - 78s 4ms/step - loss: 0.2754 - acc: 0.9156 - val_loss: 0.3588 - val_acc: 0.8993\n",
      "Epoch 16/30\n",
      "21689/21689 [==============================] - 72s 3ms/step - loss: 0.2602 - acc: 0.9197 - val_loss: 0.3511 - val_acc: 0.9026\n",
      "Epoch 17/30\n",
      "21689/21689 [==============================] - 72s 3ms/step - loss: 0.2506 - acc: 0.9247 - val_loss: 0.3539 - val_acc: 0.9035\n",
      "Epoch 18/30\n",
      "21689/21689 [==============================] - 91s 4ms/step - loss: 0.2407 - acc: 0.9270 - val_loss: 0.3589 - val_acc: 0.9044\n",
      "Epoch 19/30\n",
      "21689/21689 [==============================] - 74s 3ms/step - loss: 0.2196 - acc: 0.9318 - val_loss: 0.3537 - val_acc: 0.9050\n",
      "Epoch 20/30\n",
      "21689/21689 [==============================] - 72s 3ms/step - loss: 0.2248 - acc: 0.9306 - val_loss: 0.3659 - val_acc: 0.9039\n",
      "Epoch 21/30\n",
      "21689/21689 [==============================] - 75s 3ms/step - loss: 0.2138 - acc: 0.9345 - val_loss: 0.3583 - val_acc: 0.9036\n",
      "Epoch 22/30\n",
      "21689/21689 [==============================] - 89s 4ms/step - loss: 0.2053 - acc: 0.9360 - val_loss: 0.3526 - val_acc: 0.9089\n",
      "Epoch 23/30\n",
      "21689/21689 [==============================] - 72s 3ms/step - loss: 0.1878 - acc: 0.9421 - val_loss: 0.3892 - val_acc: 0.9046\n",
      "Epoch 24/30\n",
      "21689/21689 [==============================] - 68s 3ms/step - loss: 0.1834 - acc: 0.9435 - val_loss: 0.3764 - val_acc: 0.9039\n",
      "Epoch 25/30\n",
      "21689/21689 [==============================] - 68s 3ms/step - loss: 0.1826 - acc: 0.9443 - val_loss: 0.3566 - val_acc: 0.9075\n",
      "Epoch 26/30\n",
      "21689/21689 [==============================] - 70s 3ms/step - loss: 0.1803 - acc: 0.9457 - val_loss: 0.3625 - val_acc: 0.9075\n",
      "Epoch 27/30\n",
      "21689/21689 [==============================] - 74s 3ms/step - loss: 0.1805 - acc: 0.9462 - val_loss: 0.3542 - val_acc: 0.9050\n",
      "Epoch 28/30\n",
      "21689/21689 [==============================] - 76s 4ms/step - loss: 0.1620 - acc: 0.9504 - val_loss: 0.3791 - val_acc: 0.9029\n",
      "Epoch 29/30\n",
      "21689/21689 [==============================] - 74s 3ms/step - loss: 0.1617 - acc: 0.9509 - val_loss: 0.3871 - val_acc: 0.9035\n",
      "Epoch 30/30\n",
      "21689/21689 [==============================] - 79s 4ms/step - loss: 0.1547 - acc: 0.9532 - val_loss: 0.3742 - val_acc: 0.9059\n"
     ]
    },
    {
     "data": {
      "text/plain": [
       "<keras.callbacks.History at 0x7f9bc4cf5320>"
      ]
     },
     "execution_count": 14,
     "metadata": {},
     "output_type": "execute_result"
    }
   ],
   "source": [
    "#Fit model\n",
    "model.fit(X_train, y_train, validation_data=(X_test, y_test), epochs=30, batch_size=100)"
   ]
  },
  {
   "cell_type": "markdown",
   "metadata": {},
   "source": [
    "### Prediction"
   ]
  },
  {
   "cell_type": "code",
   "execution_count": 15,
   "metadata": {
    "collapsed": true
   },
   "outputs": [],
   "source": [
    "# For prediction\n",
    "def predict(filepath, model):\n",
    "    sample = Wav2MFCC(filepath)\n",
    "    sample_reshaped = sample.reshape(1, 20, 11, 1)\n",
    "    return get_label()[0][np.argmax(model.predict(sample_reshaped))]"
   ]
  },
  {
   "cell_type": "code",
   "execution_count": 29,
   "metadata": {},
   "outputs": [],
   "source": [
    "wave = './audio/yes/1cbcc7a7_nohash_0.wav'"
   ]
  },
  {
   "cell_type": "code",
   "execution_count": 30,
   "metadata": {
    "scrolled": true
   },
   "outputs": [
    {
     "name": "stdout",
     "output_type": "stream",
     "text": [
      "Predicted Audio is ---->  yes\n"
     ]
    }
   ],
   "source": [
    "print('Predicted Audio is ----> ', predict(wave, model=model))"
   ]
  },
  {
   "cell_type": "markdown",
   "metadata": {},
   "source": [
    "### Visualization"
   ]
  },
  {
   "cell_type": "code",
   "execution_count": 24,
   "metadata": {
    "collapsed": true
   },
   "outputs": [],
   "source": [
    "import matplotlib.pyplot as plt\n",
    "%matplotlib inline\n",
    "from IPython.display import Audio"
   ]
  },
  {
   "cell_type": "code",
   "execution_count": 25,
   "metadata": {
    "collapsed": true
   },
   "outputs": [],
   "source": [
    "# loading your predication data\n",
    "wave, sr = librosa.load(wave, mono=True, sr=None)"
   ]
  },
  {
   "cell_type": "code",
   "execution_count": 26,
   "metadata": {
    "scrolled": true
   },
   "outputs": [
    {
     "data": {
      "text/html": [
       "\n",
       "                <audio controls=\"controls\" >\n",
       "                    <source src=\"data:audio/wav;base64,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\" type=\"audio/wav\" />\n",
       "                    Your browser does not support the audio element.\n",
       "                </audio>\n",
       "              "
      ],
      "text/plain": [
       "<IPython.lib.display.Audio object>"
      ]
     },
     "execution_count": 26,
     "metadata": {},
     "output_type": "execute_result"
    }
   ],
   "source": [
    "#Audio file\n",
    "Audio(data=wave, rate=sr)"
   ]
  },
  {
   "cell_type": "code",
   "execution_count": 27,
   "metadata": {},
   "outputs": [
    {
     "data": {
      "text/plain": [
       "<matplotlib.collections.PolyCollection at 0x7f9b94dcf630>"
      ]
     },
     "execution_count": 27,
     "metadata": {},
     "output_type": "execute_result"
    },
    {
     "data": {
      "image/png": "[encoded data removed]",
      "text/plain": [
       "<matplotlib.figure.Figure at 0x7f9bc2670048>"
      ]
     },
     "metadata": {},
     "output_type": "display_data"
    }
   ],
   "source": [
    "#Ploting your wave\n",
    "import librosa.display\n",
    "librosa.display.waveplot(wave, sr)"
   ]
  },
  {
   "cell_type": "code",
   "execution_count": null,
   "metadata": {
    "collapsed": true
   },
   "outputs": [],
   "source": []
  }
 ],
 "metadata": {
  "kernelspec": {
   "display_name": "Python 3",
   "language": "python",
   "name": "python3"
  },
  "language_info": {
   "codemirror_mode": {
    "name": "ipython",
    "version": 3
   },
   "file_extension": ".py",
   "mimetype": "text/x-python",
   "name": "python",
   "nbconvert_exporter": "python",
   "pygments_lexer": "ipython3",
   "version": "3.6.3"
  }
 },
 "nbformat": 4,
 "nbformat_minor": 2
}
